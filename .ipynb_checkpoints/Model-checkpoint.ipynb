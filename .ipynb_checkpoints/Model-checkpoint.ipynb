{
 "cells": [
  {
   "cell_type": "markdown",
   "id": "bd73cebb",
   "metadata": {},
   "source": [
    "# STOCK PRICE PREDICITION"
   ]
  },
  {
   "cell_type": "code",
   "execution_count": 1,
   "id": "2393c45b",
   "metadata": {},
   "outputs": [],
   "source": [
    "import pandas as pd\n",
    "import numpy as np\n",
    "import matplotlib.pyplot as plt\n",
    "%matplotlib inline"
   ]
  },
  {
   "cell_type": "markdown",
   "id": "38872093",
   "metadata": {},
   "source": [
    "### Importing Data"
   ]
  },
  {
   "cell_type": "code",
   "execution_count": 2,
   "id": "eaf1e736",
   "metadata": {},
   "outputs": [],
   "source": [
    "data=pd.read_csv('TSLA.csv')"
   ]
  },
  {
   "cell_type": "code",
   "execution_count": 3,
   "id": "01524a3c",
   "metadata": {},
   "outputs": [
    {
     "data": {
      "text/html": [
       "<div>\n",
       "<style scoped>\n",
       "    .dataframe tbody tr th:only-of-type {\n",
       "        vertical-align: middle;\n",
       "    }\n",
       "\n",
       "    .dataframe tbody tr th {\n",
       "        vertical-align: top;\n",
       "    }\n",
       "\n",
       "    .dataframe thead th {\n",
       "        text-align: right;\n",
       "    }\n",
       "</style>\n",
       "<table border=\"1\" class=\"dataframe\">\n",
       "  <thead>\n",
       "    <tr style=\"text-align: right;\">\n",
       "      <th></th>\n",
       "      <th>Date</th>\n",
       "      <th>Open</th>\n",
       "      <th>High</th>\n",
       "      <th>Low</th>\n",
       "      <th>Close</th>\n",
       "      <th>Adj Close</th>\n",
       "      <th>Volume</th>\n",
       "    </tr>\n",
       "  </thead>\n",
       "  <tbody>\n",
       "    <tr>\n",
       "      <th>0</th>\n",
       "      <td>2010-06-29</td>\n",
       "      <td>19.000000</td>\n",
       "      <td>25.000000</td>\n",
       "      <td>17.540001</td>\n",
       "      <td>23.889999</td>\n",
       "      <td>23.889999</td>\n",
       "      <td>18766300</td>\n",
       "    </tr>\n",
       "    <tr>\n",
       "      <th>1</th>\n",
       "      <td>2010-06-30</td>\n",
       "      <td>25.790001</td>\n",
       "      <td>30.420000</td>\n",
       "      <td>23.299999</td>\n",
       "      <td>23.830000</td>\n",
       "      <td>23.830000</td>\n",
       "      <td>17187100</td>\n",
       "    </tr>\n",
       "    <tr>\n",
       "      <th>2</th>\n",
       "      <td>2010-07-01</td>\n",
       "      <td>25.000000</td>\n",
       "      <td>25.920000</td>\n",
       "      <td>20.270000</td>\n",
       "      <td>21.959999</td>\n",
       "      <td>21.959999</td>\n",
       "      <td>8218800</td>\n",
       "    </tr>\n",
       "    <tr>\n",
       "      <th>3</th>\n",
       "      <td>2010-07-02</td>\n",
       "      <td>23.000000</td>\n",
       "      <td>23.100000</td>\n",
       "      <td>18.709999</td>\n",
       "      <td>19.200001</td>\n",
       "      <td>19.200001</td>\n",
       "      <td>5139800</td>\n",
       "    </tr>\n",
       "    <tr>\n",
       "      <th>4</th>\n",
       "      <td>2010-07-06</td>\n",
       "      <td>20.000000</td>\n",
       "      <td>20.000000</td>\n",
       "      <td>15.830000</td>\n",
       "      <td>16.110001</td>\n",
       "      <td>16.110001</td>\n",
       "      <td>6866900</td>\n",
       "    </tr>\n",
       "    <tr>\n",
       "      <th>...</th>\n",
       "      <td>...</td>\n",
       "      <td>...</td>\n",
       "      <td>...</td>\n",
       "      <td>...</td>\n",
       "      <td>...</td>\n",
       "      <td>...</td>\n",
       "      <td>...</td>\n",
       "    </tr>\n",
       "    <tr>\n",
       "      <th>2411</th>\n",
       "      <td>2020-01-28</td>\n",
       "      <td>568.489990</td>\n",
       "      <td>576.809998</td>\n",
       "      <td>558.080017</td>\n",
       "      <td>566.900024</td>\n",
       "      <td>566.900024</td>\n",
       "      <td>11788500</td>\n",
       "    </tr>\n",
       "    <tr>\n",
       "      <th>2412</th>\n",
       "      <td>2020-01-29</td>\n",
       "      <td>575.690002</td>\n",
       "      <td>589.799988</td>\n",
       "      <td>567.429993</td>\n",
       "      <td>580.989990</td>\n",
       "      <td>580.989990</td>\n",
       "      <td>17801500</td>\n",
       "    </tr>\n",
       "    <tr>\n",
       "      <th>2413</th>\n",
       "      <td>2020-01-30</td>\n",
       "      <td>632.419983</td>\n",
       "      <td>650.880005</td>\n",
       "      <td>618.000000</td>\n",
       "      <td>640.809998</td>\n",
       "      <td>640.809998</td>\n",
       "      <td>29005700</td>\n",
       "    </tr>\n",
       "    <tr>\n",
       "      <th>2414</th>\n",
       "      <td>2020-01-31</td>\n",
       "      <td>640.000000</td>\n",
       "      <td>653.000000</td>\n",
       "      <td>632.520020</td>\n",
       "      <td>650.570007</td>\n",
       "      <td>650.570007</td>\n",
       "      <td>15719300</td>\n",
       "    </tr>\n",
       "    <tr>\n",
       "      <th>2415</th>\n",
       "      <td>2020-02-03</td>\n",
       "      <td>673.690002</td>\n",
       "      <td>786.140015</td>\n",
       "      <td>673.520020</td>\n",
       "      <td>780.000000</td>\n",
       "      <td>780.000000</td>\n",
       "      <td>47065000</td>\n",
       "    </tr>\n",
       "  </tbody>\n",
       "</table>\n",
       "<p>2416 rows × 7 columns</p>\n",
       "</div>"
      ],
      "text/plain": [
       "            Date        Open        High         Low       Close   Adj Close  \\\n",
       "0     2010-06-29   19.000000   25.000000   17.540001   23.889999   23.889999   \n",
       "1     2010-06-30   25.790001   30.420000   23.299999   23.830000   23.830000   \n",
       "2     2010-07-01   25.000000   25.920000   20.270000   21.959999   21.959999   \n",
       "3     2010-07-02   23.000000   23.100000   18.709999   19.200001   19.200001   \n",
       "4     2010-07-06   20.000000   20.000000   15.830000   16.110001   16.110001   \n",
       "...          ...         ...         ...         ...         ...         ...   \n",
       "2411  2020-01-28  568.489990  576.809998  558.080017  566.900024  566.900024   \n",
       "2412  2020-01-29  575.690002  589.799988  567.429993  580.989990  580.989990   \n",
       "2413  2020-01-30  632.419983  650.880005  618.000000  640.809998  640.809998   \n",
       "2414  2020-01-31  640.000000  653.000000  632.520020  650.570007  650.570007   \n",
       "2415  2020-02-03  673.690002  786.140015  673.520020  780.000000  780.000000   \n",
       "\n",
       "        Volume  \n",
       "0     18766300  \n",
       "1     17187100  \n",
       "2      8218800  \n",
       "3      5139800  \n",
       "4      6866900  \n",
       "...        ...  \n",
       "2411  11788500  \n",
       "2412  17801500  \n",
       "2413  29005700  \n",
       "2414  15719300  \n",
       "2415  47065000  \n",
       "\n",
       "[2416 rows x 7 columns]"
      ]
     },
     "execution_count": 3,
     "metadata": {},
     "output_type": "execute_result"
    }
   ],
   "source": [
    "data"
   ]
  },
  {
   "cell_type": "markdown",
   "id": "5765eb69",
   "metadata": {},
   "source": [
    "### Checking whether Both the columns are working"
   ]
  },
  {
   "cell_type": "code",
   "execution_count": 65,
   "id": "7aa5f804",
   "metadata": {},
   "outputs": [
    {
     "name": "stdout",
     "output_type": "stream",
     "text": [
      "Length: 2416\n",
      "True    2416\n",
      "Name: count, dtype: int64\n"
     ]
    }
   ],
   "source": [
    "def man(x,y):\n",
    "    ser=[0]*len(x)\n",
    "    for i in range(len(x)):\n",
    "        if x[i]==y[i]:\n",
    "            ser[i]='True'\n",
    "        else:\n",
    "            ser[i]='False'\n",
    "    return ser\n",
    "print(\"Length:\",len(data[\"Close\"]))\n",
    "r=man(data['Close'],data['Adj Close'])\n",
    "d=pd.DataFrame(r)\n",
    "print(d.value_counts())"
   ]
  },
  {
   "cell_type": "markdown",
   "id": "227254a7",
   "metadata": {},
   "source": [
    "### The Close and Adj Close are the same Values  so we either close any one."
   ]
  },
  {
   "cell_type": "code",
   "execution_count": 72,
   "id": "a9bbb43e",
   "metadata": {},
   "outputs": [
    {
     "data": {
      "text/html": [
       "<div>\n",
       "<style scoped>\n",
       "    .dataframe tbody tr th:only-of-type {\n",
       "        vertical-align: middle;\n",
       "    }\n",
       "\n",
       "    .dataframe tbody tr th {\n",
       "        vertical-align: top;\n",
       "    }\n",
       "\n",
       "    .dataframe thead th {\n",
       "        text-align: right;\n",
       "    }\n",
       "</style>\n",
       "<table border=\"1\" class=\"dataframe\">\n",
       "  <thead>\n",
       "    <tr style=\"text-align: right;\">\n",
       "      <th></th>\n",
       "      <th>Open</th>\n",
       "      <th>High</th>\n",
       "      <th>Low</th>\n",
       "      <th>Close</th>\n",
       "      <th>Adj Close</th>\n",
       "      <th>Volume</th>\n",
       "    </tr>\n",
       "  </thead>\n",
       "  <tbody>\n",
       "    <tr>\n",
       "      <th>count</th>\n",
       "      <td>2416.000000</td>\n",
       "      <td>2416.000000</td>\n",
       "      <td>2416.000000</td>\n",
       "      <td>2416.000000</td>\n",
       "      <td>2416.000000</td>\n",
       "      <td>2.416000e+03</td>\n",
       "    </tr>\n",
       "    <tr>\n",
       "      <th>mean</th>\n",
       "      <td>186.271147</td>\n",
       "      <td>189.578224</td>\n",
       "      <td>182.916639</td>\n",
       "      <td>186.403651</td>\n",
       "      <td>186.403651</td>\n",
       "      <td>5.572722e+06</td>\n",
       "    </tr>\n",
       "    <tr>\n",
       "      <th>std</th>\n",
       "      <td>118.740163</td>\n",
       "      <td>120.892329</td>\n",
       "      <td>116.857591</td>\n",
       "      <td>119.136020</td>\n",
       "      <td>119.136020</td>\n",
       "      <td>4.987809e+06</td>\n",
       "    </tr>\n",
       "    <tr>\n",
       "      <th>min</th>\n",
       "      <td>16.139999</td>\n",
       "      <td>16.629999</td>\n",
       "      <td>14.980000</td>\n",
       "      <td>15.800000</td>\n",
       "      <td>15.800000</td>\n",
       "      <td>1.185000e+05</td>\n",
       "    </tr>\n",
       "    <tr>\n",
       "      <th>25%</th>\n",
       "      <td>34.342498</td>\n",
       "      <td>34.897501</td>\n",
       "      <td>33.587501</td>\n",
       "      <td>34.400002</td>\n",
       "      <td>34.400002</td>\n",
       "      <td>1.899275e+06</td>\n",
       "    </tr>\n",
       "    <tr>\n",
       "      <th>50%</th>\n",
       "      <td>213.035004</td>\n",
       "      <td>216.745002</td>\n",
       "      <td>208.870002</td>\n",
       "      <td>212.960007</td>\n",
       "      <td>212.960007</td>\n",
       "      <td>4.578400e+06</td>\n",
       "    </tr>\n",
       "    <tr>\n",
       "      <th>75%</th>\n",
       "      <td>266.450012</td>\n",
       "      <td>270.927513</td>\n",
       "      <td>262.102501</td>\n",
       "      <td>266.774994</td>\n",
       "      <td>266.774994</td>\n",
       "      <td>7.361150e+06</td>\n",
       "    </tr>\n",
       "    <tr>\n",
       "      <th>max</th>\n",
       "      <td>673.690002</td>\n",
       "      <td>786.140015</td>\n",
       "      <td>673.520020</td>\n",
       "      <td>780.000000</td>\n",
       "      <td>780.000000</td>\n",
       "      <td>4.706500e+07</td>\n",
       "    </tr>\n",
       "  </tbody>\n",
       "</table>\n",
       "</div>"
      ],
      "text/plain": [
       "              Open         High          Low        Close    Adj Close  \\\n",
       "count  2416.000000  2416.000000  2416.000000  2416.000000  2416.000000   \n",
       "mean    186.271147   189.578224   182.916639   186.403651   186.403651   \n",
       "std     118.740163   120.892329   116.857591   119.136020   119.136020   \n",
       "min      16.139999    16.629999    14.980000    15.800000    15.800000   \n",
       "25%      34.342498    34.897501    33.587501    34.400002    34.400002   \n",
       "50%     213.035004   216.745002   208.870002   212.960007   212.960007   \n",
       "75%     266.450012   270.927513   262.102501   266.774994   266.774994   \n",
       "max     673.690002   786.140015   673.520020   780.000000   780.000000   \n",
       "\n",
       "             Volume  \n",
       "count  2.416000e+03  \n",
       "mean   5.572722e+06  \n",
       "std    4.987809e+06  \n",
       "min    1.185000e+05  \n",
       "25%    1.899275e+06  \n",
       "50%    4.578400e+06  \n",
       "75%    7.361150e+06  \n",
       "max    4.706500e+07  "
      ]
     },
     "execution_count": 72,
     "metadata": {},
     "output_type": "execute_result"
    }
   ],
   "source": [
    "data.describe()"
   ]
  },
  {
   "cell_type": "code",
   "execution_count": 76,
   "id": "d2d6b26e",
   "metadata": {},
   "outputs": [
    {
     "data": {
      "text/plain": [
       "[<matplotlib.lines.Line2D at 0x28c2b9e63d0>]"
      ]
     },
     "execution_count": 76,
     "metadata": {},
     "output_type": "execute_result"
    },
    {
     "data": {
      "image/png": "[encoded data removed]",
      "text/plain": [
       "<Figure size 640x480 with 1 Axes>"
      ]
     },
     "metadata": {},
     "output_type": "display_data"
    }
   ],
   "source": [
    "plt.plot(data['Adj Close'])"
   ]
  },
  {
   "cell_type": "code",
   "execution_count": 81,
   "id": "3e4df045",
   "metadata": {},
   "outputs": [
    {
     "data": {
      "text/plain": [
       "0        23.889999\n",
       "1        23.830000\n",
       "2        21.959999\n",
       "3        19.200001\n",
       "4        16.110001\n",
       "           ...    \n",
       "2411    566.900024\n",
       "2412    580.989990\n",
       "2413    640.809998\n",
       "2414    650.570007\n",
       "2415    780.000000\n",
       "Name: Close, Length: 2416, dtype: float64"
      ]
     },
     "execution_count": 81,
     "metadata": {},
     "output_type": "execute_result"
    }
   ],
   "source": [
    "tsla=data['Close']\n",
    "tsla"
   ]
  },
  {
   "cell_type": "code",
   "execution_count": 133,
   "id": "b2f371b5",
   "metadata": {},
   "outputs": [
    {
     "data": {
      "text/plain": [
       "0        23.889999\n",
       "1        23.830000\n",
       "2        21.959999\n",
       "3        19.200001\n",
       "4        16.110001\n",
       "           ...    \n",
       "2411    566.900024\n",
       "2412    580.989990\n",
       "2413    640.809998\n",
       "2414    650.570007\n",
       "2415    780.000000\n",
       "Name: Close, Length: 2416, dtype: float64"
      ]
     },
     "execution_count": 133,
     "metadata": {},
     "output_type": "execute_result"
    }
   ],
   "source": [
    "X = np.array(tsla.index).reshape(-1, 1)\n",
    "y = tsla"
   ]
  },
  {
   "cell_type": "code",
   "execution_count": 86,
   "id": "b54024ac",
   "metadata": {},
   "outputs": [],
   "source": [
    "from sklearn.model_selection import train_test_split"
   ]
  },
  {
   "cell_type": "code",
   "execution_count": 87,
   "id": "3d915be8",
   "metadata": {},
   "outputs": [],
   "source": [
    "X_train, X_test, y_train, y_test = train_test_split(X, y, test_size=0.2, random_state=0)"
   ]
  },
  {
   "cell_type": "code",
   "execution_count": 89,
   "id": "7d946fe5",
   "metadata": {},
   "outputs": [],
   "source": [
    "from sklearn.linear_model import LinearRegression"
   ]
  },
  {
   "cell_type": "code",
   "execution_count": 91,
   "id": "90ae8e03",
   "metadata": {},
   "outputs": [],
   "source": [
    "model = LinearRegression()"
   ]
  },
  {
   "cell_type": "code",
   "execution_count": 92,
   "id": "27b7f56b",
   "metadata": {},
   "outputs": [
    {
     "data": {
      "text/html": [
       "<style>#sk-container-id-2 {color: black;}#sk-container-id-2 pre{padding: 0;}#sk-container-id-2 div.sk-toggleable {background-color: white;}#sk-container-id-2 label.sk-toggleable__label {cursor: pointer;display: block;width: 100%;margin-bottom: 0;padding: 0.3em;box-sizing: border-box;text-align: center;}#sk-container-id-2 label.sk-toggleable__label-arrow:before {content: \"▸\";float: left;margin-right: 0.25em;color: #696969;}#sk-container-id-2 label.sk-toggleable__label-arrow:hover:before {color: black;}#sk-container-id-2 div.sk-estimator:hover label.sk-toggleable__label-arrow:before {color: black;}#sk-container-id-2 div.sk-toggleable__content {max-height: 0;max-width: 0;overflow: hidden;text-align: left;background-color: #f0f8ff;}#sk-container-id-2 div.sk-toggleable__content pre {margin: 0.2em;color: black;border-radius: 0.25em;background-color: #f0f8ff;}#sk-container-id-2 input.sk-toggleable__control:checked~div.sk-toggleable__content {max-height: 200px;max-width: 100%;overflow: auto;}#sk-container-id-2 input.sk-toggleable__control:checked~label.sk-toggleable__label-arrow:before {content: \"▾\";}#sk-container-id-2 div.sk-estimator input.sk-toggleable__control:checked~label.sk-toggleable__label {background-color: #d4ebff;}#sk-container-id-2 div.sk-label input.sk-toggleable__control:checked~label.sk-toggleable__label {background-color: #d4ebff;}#sk-container-id-2 input.sk-hidden--visually {border: 0;clip: rect(1px 1px 1px 1px);clip: rect(1px, 1px, 1px, 1px);height: 1px;margin: -1px;overflow: hidden;padding: 0;position: absolute;width: 1px;}#sk-container-id-2 div.sk-estimator {font-family: monospace;background-color: #f0f8ff;border: 1px dotted black;border-radius: 0.25em;box-sizing: border-box;margin-bottom: 0.5em;}#sk-container-id-2 div.sk-estimator:hover {background-color: #d4ebff;}#sk-container-id-2 div.sk-parallel-item::after {content: \"\";width: 100%;border-bottom: 1px solid gray;flex-grow: 1;}#sk-container-id-2 div.sk-label:hover label.sk-toggleable__label {background-color: #d4ebff;}#sk-container-id-2 div.sk-serial::before {content: \"\";position: absolute;border-left: 1px solid gray;box-sizing: border-box;top: 0;bottom: 0;left: 50%;z-index: 0;}#sk-container-id-2 div.sk-serial {display: flex;flex-direction: column;align-items: center;background-color: white;padding-right: 0.2em;padding-left: 0.2em;position: relative;}#sk-container-id-2 div.sk-item {position: relative;z-index: 1;}#sk-container-id-2 div.sk-parallel {display: flex;align-items: stretch;justify-content: center;background-color: white;position: relative;}#sk-container-id-2 div.sk-item::before, #sk-container-id-2 div.sk-parallel-item::before {content: \"\";position: absolute;border-left: 1px solid gray;box-sizing: border-box;top: 0;bottom: 0;left: 50%;z-index: -1;}#sk-container-id-2 div.sk-parallel-item {display: flex;flex-direction: column;z-index: 1;position: relative;background-color: white;}#sk-container-id-2 div.sk-parallel-item:first-child::after {align-self: flex-end;width: 50%;}#sk-container-id-2 div.sk-parallel-item:last-child::after {align-self: flex-start;width: 50%;}#sk-container-id-2 div.sk-parallel-item:only-child::after {width: 0;}#sk-container-id-2 div.sk-dashed-wrapped {border: 1px dashed gray;margin: 0 0.4em 0.5em 0.4em;box-sizing: border-box;padding-bottom: 0.4em;background-color: white;}#sk-container-id-2 div.sk-label label {font-family: monospace;font-weight: bold;display: inline-block;line-height: 1.2em;}#sk-container-id-2 div.sk-label-container {text-align: center;}#sk-container-id-2 div.sk-container {/* jupyter's `normalize.less` sets `[hidden] { display: none; }` but bootstrap.min.css set `[hidden] { display: none !important; }` so we also need the `!important` here to be able to override the default hidden behavior on the sphinx rendered scikit-learn.org. See: https://github.com/scikit-learn/scikit-learn/issues/21755 */display: inline-block !important;position: relative;}#sk-container-id-2 div.sk-text-repr-fallback {display: none;}</style><div id=\"sk-container-id-2\" class=\"sk-top-container\"><div class=\"sk-text-repr-fallback\"><pre>LinearRegression()</pre><b>In a Jupyter environment, please rerun this cell to show the HTML representation or trust the notebook. <br />On GitHub, the HTML representation is unable to render, please try loading this page with nbviewer.org.</b></div><div class=\"sk-container\" hidden><div class=\"sk-item\"><div class=\"sk-estimator sk-toggleable\"><input class=\"sk-toggleable__control sk-hidden--visually\" id=\"sk-estimator-id-2\" type=\"checkbox\" checked><label for=\"sk-estimator-id-2\" class=\"sk-toggleable__label sk-toggleable__label-arrow\">LinearRegression</label><div class=\"sk-toggleable__content\"><pre>LinearRegression()</pre></div></div></div></div></div>"
      ],
      "text/plain": [
       "LinearRegression()"
      ]
     },
     "execution_count": 92,
     "metadata": {},
     "output_type": "execute_result"
    }
   ],
   "source": [
    "model.fit(X_train, y_train)"
   ]
  },
  {
   "cell_type": "code",
   "execution_count": 93,
   "id": "7023dec4",
   "metadata": {},
   "outputs": [],
   "source": [
    "y_pred = model.predict(X_test)"
   ]
  },
  {
   "cell_type": "code",
   "execution_count": 98,
   "id": "b8a222d3",
   "metadata": {},
   "outputs": [
    {
     "data": {
      "text/plain": [
       "array([149.93416968,  87.45509808,  24.97602647, 295.20946821,\n",
       "       244.49296021, 152.83662044,  35.21098441,  61.94408351,\n",
       "       200.80343825, 278.25304536, 214.70464979, 163.68262065,\n",
       "        64.235492  , 116.3268451 ,  13.0607023 , 331.10820129,\n",
       "       114.34095774, 350.81431434,  91.12135167, 238.68805869,\n",
       "       326.83090543, 273.21194667, 205.53901581, 292.30701745,\n",
       "       312.77693334, 247.85369267, 365.021047  , 196.5261424 ,\n",
       "       222.95372036, 171.77893066,  22.53185741,  94.32932356,\n",
       "        84.24712618, 355.09161019, 366.70141323, 154.66974724,\n",
       "       221.73163583, 132.213944  , 315.98490523, 187.51326899,\n",
       "       266.03220005, 107.31397169,  26.198111  , 354.32780736,\n",
       "        89.13546431, 236.54941076, 344.39837055,  96.46797149,\n",
       "       329.58059563, 340.5793564 , 156.50287403, 262.6714676 ,\n",
       "       106.55016886, 173.30653632, 336.91310281, 212.71876242,\n",
       "        66.83242163, 155.89183177,   3.74230776, 110.52194358,\n",
       "       237.31321359,  97.23177432, 195.609579  , 273.0591861 ,\n",
       "        61.02752011,  40.86312536, 223.87028376, 223.2592415 ,\n",
       "        11.07481494,  81.49743599,  56.29194256, 139.08816948,\n",
       "       295.82051048,  48.50115368,  71.41523862, 285.89107367,\n",
       "       288.0297216 ,   7.40856135,  10.46377267, 356.31369472,\n",
       "       297.95915841, 229.36966415, 111.59126755, 227.53653735,\n",
       "       101.05078848, 277.18372139,  96.77349262, 369.29834286,\n",
       "        46.51526631, 235.4800868 ,  90.66306997, 290.16836953,\n",
       "       103.34219697, 200.19239599, 128.39492984, 169.94580387,\n",
       "       282.37758065,  93.56552073,  22.99013911, 111.13298585,\n",
       "        81.34467543, 333.24684922, 255.18619985, 363.34068077,\n",
       "       234.41076283,  63.3189286 , 344.70389169, 151.76729648,\n",
       "       225.09236829,  36.58582951, 210.5801145 , 293.07082029,\n",
       "       145.65687383, 270.76777761, 348.98118754, 123.65935228,\n",
       "       242.04879115, 322.24808844, 301.31989086,  12.90794173,\n",
       "       207.21938204, 336.14929998, 231.20279094,  51.556365  ,\n",
       "       293.98738368, 282.22482008, 175.90346595, 325.6088209 ,\n",
       "       268.01808742,   4.50611059, 241.28498832, 369.90938512,\n",
       "         8.63064588, 340.1210747 , 173.15377576, 281.46101725,\n",
       "       281.30825668, 349.74499037, 152.22557818, 186.44394502,\n",
       "        40.7103648 , 313.8462573 , 276.72543969, 149.47588798,\n",
       "        30.16988572,  39.7938014 ,  53.23673123, 152.07281761,\n",
       "       235.0218051 , 133.89431022, 356.92473699,  88.37166147,\n",
       "        99.21766168,  51.25084387,   5.88095568,  90.0520277 ,\n",
       "         5.72819512, 250.60338286, 270.61501704,  31.69749139,\n",
       "       166.73783197,  17.33799816, 352.03639887, 179.56971954,\n",
       "        67.29070333, 234.71628397, 366.24313153, 291.69597519,\n",
       "       318.27631372, 340.27383526, 339.51003243, 285.43279197,\n",
       "       228.14757962, 253.20031249, 310.48552484, 294.29290482,\n",
       "       209.96907223, 327.74746883, 106.85568999, 331.26096185,\n",
       "       230.89726981,  76.60909787, 166.43231084, 138.32436665,\n",
       "        21.30977288, 357.23025812, 138.47712721,   3.89506832,\n",
       "         6.49199795, 174.83414199, 279.01684819,  89.28822487,\n",
       "       263.58803099, 163.98814178, 291.84873576, 353.41124396,\n",
       "       155.58631064, 102.7311547 , 353.86952566, 322.85913071,\n",
       "        37.80791404, 197.90098749,  70.49867522, 203.85864958,\n",
       "       171.6261701 , 139.69921174, 363.95172304,  27.1146744 ,\n",
       "       274.58679177, 264.19907326, 136.79676098,  96.92625319,\n",
       "       331.71924355, 356.00817359, 224.17580489, 342.56524376,\n",
       "        50.33428047, 369.14558229,  44.52937895,  70.04039352,\n",
       "       232.42487547, 116.63236624, 263.74079156,  69.88763295,\n",
       "        40.2520831 , 204.77521298,  57.51402709,   8.32512475,\n",
       "       247.2426504 , 167.19611367, 314.7628207 , 163.07157838,\n",
       "       225.24512886, 254.57515758, 236.09112906, 343.78732829,\n",
       "       313.08245447,  60.26371728, 178.65315614, 309.41620088,\n",
       "       238.99357982,  77.06737957, 202.78932562, 258.08865061,\n",
       "       147.94828232,   8.01960361, 104.25876037,  32.15577308,\n",
       "        88.98270374, 118.1599719 , 365.78484983, 365.32656813,\n",
       "       130.8390989 ,  73.40112598,  23.29566024, 209.81631166,\n",
       "       116.17408454, 249.0757772 ,  63.7772103 , 327.4419477 ,\n",
       "       326.67814487,  52.77844953, 342.41248319, 286.1965948 ,\n",
       "        95.55140809, 152.98938101, 345.16217339, 143.9765076 ,\n",
       "       337.37138451, 328.3585111 , 127.32560587, 130.07529607,\n",
       "        69.58211182,  69.27659069, 215.77397375, 352.18915943,\n",
       "       248.31197437, 216.99605828, 170.55684613, 356.46645529,\n",
       "       235.9383685 , 261.2966225 , 314.15177843,  88.67718261,\n",
       "       191.79056484,  18.71284325, 154.36422611,  68.97106956,\n",
       "       319.80391938, 195.76233957,   2.52022323, 303.91682049,\n",
       "        13.9772657 , 122.89554945,  90.81583053, 239.60462209,\n",
       "       224.48132603, 319.04011655, 301.01436973, 368.68730059,\n",
       "        75.69253447, 137.25504268, 348.82842698, 214.24636809,\n",
       "       308.65239805, 301.625412  , 105.32808433, 124.42315512,\n",
       "       224.78684716, 141.22681741, 145.3513527 , 153.29490214,\n",
       "        65.6103371 , 263.89355213, 123.35383115, 335.84377884,\n",
       "       170.86236726,  90.20478827,  93.41276016, 119.0765353 ,\n",
       "        91.27411223,  42.69625216, 328.81679279,  83.33056279,\n",
       "       123.20107059, 270.92053818, 149.62864855, 258.69969287,\n",
       "       256.10276325, 360.43823001, 232.57763604, 164.75194461,\n",
       "        20.24044891,   9.69996984,  48.65391424,  35.97478724,\n",
       "       315.52662353, 167.80715594, 119.68757756, 251.36718569,\n",
       "       199.73411429, 111.74402811, 129.31149324, 347.14806075,\n",
       "        62.09684407, 173.00101519,  95.39864752,  71.56799918,\n",
       "        50.79256217,  31.54473082,  63.16616804, 143.5182259 ,\n",
       "       191.02676201, 212.26048072, 346.68977905, 130.68633833,\n",
       "       240.67394605, 204.31693128,  46.05698462, 103.6477181 ,\n",
       "       149.32312742, 160.01636706, 110.98022528, 104.71704207,\n",
       "       315.2211024 , 259.76901684, 234.25800227,  33.83613931,\n",
       "       350.50879321, 296.73707388, 107.46673226, 332.94132808,\n",
       "       147.64276119, 194.38749447, 138.78264835, 148.71208515,\n",
       "        75.23425277, 304.06958106, 139.39369061, 240.21566435,\n",
       "       294.75118651, 323.01189128,  76.76185844, 295.97327104,\n",
       "       104.1059998 , 176.05622652, 242.65983341,  22.68461798,\n",
       "       226.46721339, 214.09360752, 204.46969184, 245.40952361,\n",
       "       260.07453797, 271.07329874, 260.99110137, 239.75738265,\n",
       "       358.45234265, 338.89899017, 211.19115676, 281.15549612,\n",
       "        83.17780222, 181.70836747, 349.59222981,   4.04782889,\n",
       "       226.00893169, 219.89850904, 211.34391733, 239.14634039,\n",
       "        48.95943537, 126.10352134, 272.29538327, 358.14682152,\n",
       "        26.35087157, 162.91881782, 175.29242369, 208.44146657,\n",
       "       296.88983444, 360.59099058, 159.25256423,   5.11715285,\n",
       "        37.34963234,  32.91957592, 363.49344134, 127.63112701,\n",
       "       355.70265246, 198.97031146,  72.17904145, 251.51994626,\n",
       "       218.37090338,   9.54720928,  47.58459028, 152.53109931,\n",
       "        89.44098544,  32.00301252,  29.10056176, 188.27707182,\n",
       "       191.17952258,  72.79008371,   4.96439229, 266.49048175,\n",
       "       139.54645118, 158.94704309,  61.18028068, 348.37014528,\n",
       "       291.08493292,  24.51774477, 113.57715491, 257.47760834,\n",
       "       121.21518322, 155.43355007, 138.62988778, 247.39541097,\n",
       "        66.22137936, 109.75814075, 250.90890399,  75.38701334,\n",
       "       265.26839722,  41.16864649, 229.82794585, 237.46597416,\n",
       "       194.2347339 , 205.23349468, 255.33896041,  48.19563254,\n",
       "       220.5095513 , 300.2505669 ,  41.93244933, 125.49247908,\n",
       "         6.95027965, 130.3808172 , 112.50783095, 261.14386193,\n",
       "       275.65611573, 299.3340035 , 162.61329668, 337.06586337,\n",
       "       272.14262271, 153.14214158,  85.92749241, 246.63160814,\n",
       "       276.87820026,  61.33304124, 250.14510116,  72.48456258])"
      ]
     },
     "execution_count": 98,
     "metadata": {},
     "output_type": "execute_result"
    }
   ],
   "source": [
    "y_pred"
   ]
  },
  {
   "cell_type": "code",
   "execution_count": 99,
   "id": "3eaadc8a",
   "metadata": {},
   "outputs": [
    {
     "name": "stdout",
     "output_type": "stream",
     "text": [
      "Mean Absolute Error: 43.948209454045816\n",
      "Mean Squared Error: 3048.4812844498083\n",
      "Root Mean Squared Error: 55.213053569330945\n"
     ]
    }
   ],
   "source": [
    "print('Mean Absolute Error:', metrics.mean_absolute_error(y_test, y_pred))\n",
    "print('Mean Squared Error:', metrics.mean_squared_error(y_test, y_pred))\n",
    "print('Root Mean Squared Error:', np.sqrt(metrics.mean_squared_error(y_test, y_pred)))"
   ]
  },
  {
   "cell_type": "code",
   "execution_count": 100,
   "id": "0351293f",
   "metadata": {},
   "outputs": [
    {
     "data": {
      "image/png": "[encoded data removed]",
      "text/plain": [
       "<Figure size 640x480 with 1 Axes>"
      ]
     },
     "metadata": {},
     "output_type": "display_data"
    }
   ],
   "source": [
    "import matplotlib.pyplot as plt\n",
    "\n",
    "# Plotting the results\n",
    "plt.scatter(X_test, y_test, color='black')\n",
    "plt.plot(X_test, y_pred, color='blue', linewidth=3)\n",
    "plt.title('Linear Regression - TSLA Stock')\n",
    "plt.xlabel('Index')\n",
    "plt.ylabel('Closing Price')\n",
    "plt.show()\n"
   ]
  },
  {
   "cell_type": "code",
   "execution_count": 115,
   "id": "58423770",
   "metadata": {},
   "outputs": [
    {
     "data": {
      "text/plain": [
       "array([231.50831208])"
      ]
     },
     "execution_count": 115,
     "metadata": {},
     "output_type": "execute_result"
    }
   ],
   "source": [
    "model.predict([[1500]])"
   ]
  }
 ],
 "metadata": {
  "kernelspec": {
   "display_name": "Python 3 (ipykernel)",
   "language": "python",
   "name": "python3"
  },
  "language_info": {
   "codemirror_mode": {
    "name": "ipython",
    "version": 3
   },
   "file_extension": ".py",
   "mimetype": "text/x-python",
   "name": "python",
   "nbconvert_exporter": "python",
   "pygments_lexer": "ipython3",
   "version": "3.11.5"
  }
 },
 "nbformat": 4,
 "nbformat_minor": 5
}
